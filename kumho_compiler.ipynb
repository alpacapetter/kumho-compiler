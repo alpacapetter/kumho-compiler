{
 "cells": [
  {
   "cell_type": "markdown",
   "metadata": {},
   "source": [
    "# <b>Kumho Compiler</b>"
   ]
  },
  {
   "cell_type": "markdown",
   "metadata": {},
   "source": [
    "### The purpose of this compiler is to:\n",
    "1. Convert the DAT files into a CSV file\n",
    "2. Combine multiple CSV files into one dataframe\n",
    "3. Data visualization for analysis"
   ]
  },
  {
   "cell_type": "markdown",
   "metadata": {},
   "source": [
    " <br>"
   ]
  },
  {
   "cell_type": "markdown",
   "metadata": {},
   "source": [
    "### 1. Converting .DAT files into .CSV file (dattocsv.py)\n",
    "\n",
    "#### The conversion program written in python executes the following:\n",
    "        -Converts the DAT files into a CSV file.\n",
    "        -Saves the CSV file in a CSV folder in the parent directory\n",
    "\n",
    "#### Requirement:\n",
    "        Run the following program in a windows machine as it runs subprocess via command line switch.\n",
    "https://github.com/alpacapetter/kumho-compiler"
   ]
  },
  {
   "cell_type": "markdown",
   "metadata": {},
   "source": [
    " <br>"
   ]
  },
  {
   "cell_type": "markdown",
   "metadata": {},
   "source": [
    "### 2.  Multiple CSV files into one dataframe"
   ]
  },
  {
   "cell_type": "code",
   "execution_count": 1,
   "metadata": {},
   "outputs": [],
   "source": [
    "import pandas as pd\n",
    "import os"
   ]
  },
  {
   "cell_type": "code",
   "execution_count": 2,
   "metadata": {},
   "outputs": [],
   "source": [
    "# df = pd.read_csv(\"/mnt/c/Users/Robert Choi/Desktop/Kumho ENG/Data/4-7-2018 DATA LOG/BM1 DROP DOOR PT-101 DATA CSV/2018 03 29 0014 (Float).csv\")\n",
    "files = [file for file in os.listdir(\"/mnt/c/Users/Rob/Documents/Datalog 2018-9-10/BM1(Q MIXER)/PT/BM1 SCRUBBER SC-101-PT-101 DATA_csv/\")]"
   ]
  },
  {
   "cell_type": "code",
   "execution_count": 3,
   "metadata": {},
   "outputs": [],
   "source": [
    "all_data = pd.DataFrame()\n",
    "\n",
    "for file in files:\n",
    "    df = pd.read_csv(\"/mnt/c/Users/Rob/Documents/Datalog 2018-9-10/BM1(Q MIXER)/PT/BM1 SCRUBBER SC-101-PT-101 DATA_csv/\"+file)\n",
    "    all_data = pd.concat([all_data, df])"
   ]
  },
  {
   "cell_type": "code",
   "execution_count": null,
   "metadata": {},
   "outputs": [],
   "source": [
    "# rename columns\n",
    "\n",
    "all_data.columns = ['Date', 'Time', 'Del1', 'value', 'Del2', 'Del3', 'Del4', 'Del5']"
   ]
  },
  {
   "cell_type": "code",
   "execution_count": 8,
   "metadata": {},
   "outputs": [
    {
     "data": {
      "text/html": [
       "<div>\n",
       "<style scoped>\n",
       "    .dataframe tbody tr th:only-of-type {\n",
       "        vertical-align: middle;\n",
       "    }\n",
       "\n",
       "    .dataframe tbody tr th {\n",
       "        vertical-align: top;\n",
       "    }\n",
       "\n",
       "    .dataframe thead th {\n",
       "        text-align: right;\n",
       "    }\n",
       "</style>\n",
       "<table border=\"1\" class=\"dataframe\">\n",
       "  <thead>\n",
       "    <tr style=\"text-align: right;\">\n",
       "      <th></th>\n",
       "      <th>col</th>\n",
       "      <th>;Date</th>\n",
       "      <th>Time</th>\n",
       "      <th>Millitm</th>\n",
       "      <th>Tagname</th>\n",
       "      <th>Value</th>\n",
       "      <th>Status</th>\n",
       "      <th>Marker</th>\n",
       "      <th>Internal</th>\n",
       "    </tr>\n",
       "  </thead>\n",
       "  <tbody>\n",
       "    <tr>\n",
       "      <th>0</th>\n",
       "      <td></td>\n",
       "      <td>NaN</td>\n",
       "      <td>NaN</td>\n",
       "      <td>NaN</td>\n",
       "      <td>NaN</td>\n",
       "      <td>NaN</td>\n",
       "      <td>NaN</td>\n",
       "      <td>NaN</td>\n",
       "      <td>NaN</td>\n",
       "    </tr>\n",
       "    <tr>\n",
       "      <th>1</th>\n",
       "      <td>NaN</td>\n",
       "      <td>14:00:02</td>\n",
       "      <td>68.0</td>\n",
       "      <td>[HKT]BM1_HMI_AI16                             ...</td>\n",
       "      <td>-56.899994</td>\n",
       "      <td></td>\n",
       "      <td>B</td>\n",
       "      <td>-1.0</td>\n",
       "      <td>NaN</td>\n",
       "    </tr>\n",
       "    <tr>\n",
       "      <th>2</th>\n",
       "      <td>NaN</td>\n",
       "      <td>14:00:10</td>\n",
       "      <td>373.0</td>\n",
       "      <td>[HKT]BM1_HMI_AI16                             ...</td>\n",
       "      <td>-57.099991</td>\n",
       "      <td></td>\n",
       "      <td></td>\n",
       "      <td>0.0</td>\n",
       "      <td>NaN</td>\n",
       "    </tr>\n",
       "    <tr>\n",
       "      <th>3</th>\n",
       "      <td>NaN</td>\n",
       "      <td>14:00:11</td>\n",
       "      <td>724.0</td>\n",
       "      <td>[HKT]BM1_HMI_AI16                             ...</td>\n",
       "      <td>-57.099991</td>\n",
       "      <td></td>\n",
       "      <td></td>\n",
       "      <td>1.0</td>\n",
       "      <td>NaN</td>\n",
       "    </tr>\n",
       "    <tr>\n",
       "      <th>4</th>\n",
       "      <td>NaN</td>\n",
       "      <td>14:00:21</td>\n",
       "      <td>680.0</td>\n",
       "      <td>[HKT]BM1_HMI_AI16                             ...</td>\n",
       "      <td>-57.000000</td>\n",
       "      <td></td>\n",
       "      <td></td>\n",
       "      <td>2.0</td>\n",
       "      <td>NaN</td>\n",
       "    </tr>\n",
       "    <tr>\n",
       "      <th>...</th>\n",
       "      <td>...</td>\n",
       "      <td>...</td>\n",
       "      <td>...</td>\n",
       "      <td>...</td>\n",
       "      <td>...</td>\n",
       "      <td>...</td>\n",
       "      <td>...</td>\n",
       "      <td>...</td>\n",
       "      <td>...</td>\n",
       "    </tr>\n",
       "    <tr>\n",
       "      <th>358</th>\n",
       "      <td>NaN</td>\n",
       "      <td>14:59:21</td>\n",
       "      <td>718.0</td>\n",
       "      <td>[HKT]BM1_HMI_AI16                             ...</td>\n",
       "      <td>-57.099991</td>\n",
       "      <td></td>\n",
       "      <td></td>\n",
       "      <td>356.0</td>\n",
       "      <td>NaN</td>\n",
       "    </tr>\n",
       "    <tr>\n",
       "      <th>359</th>\n",
       "      <td>NaN</td>\n",
       "      <td>14:59:31</td>\n",
       "      <td>675.0</td>\n",
       "      <td>[HKT]BM1_HMI_AI16                             ...</td>\n",
       "      <td>-56.800003</td>\n",
       "      <td></td>\n",
       "      <td></td>\n",
       "      <td>357.0</td>\n",
       "      <td>NaN</td>\n",
       "    </tr>\n",
       "    <tr>\n",
       "      <th>360</th>\n",
       "      <td>NaN</td>\n",
       "      <td>14:59:41</td>\n",
       "      <td>685.0</td>\n",
       "      <td>[HKT]BM1_HMI_AI16                             ...</td>\n",
       "      <td>-57.099991</td>\n",
       "      <td></td>\n",
       "      <td></td>\n",
       "      <td>358.0</td>\n",
       "      <td>NaN</td>\n",
       "    </tr>\n",
       "    <tr>\n",
       "      <th>361</th>\n",
       "      <td>NaN</td>\n",
       "      <td>14:59:51</td>\n",
       "      <td>696.0</td>\n",
       "      <td>[HKT]BM1_HMI_AI16                             ...</td>\n",
       "      <td>-56.899994</td>\n",
       "      <td></td>\n",
       "      <td></td>\n",
       "      <td>359.0</td>\n",
       "      <td>NaN</td>\n",
       "    </tr>\n",
       "    <tr>\n",
       "      <th>362</th>\n",
       "      <td>NaN</td>\n",
       "      <td>15:00:14</td>\n",
       "      <td>396.0</td>\n",
       "      <td>[HKT]BM1_HMI_AI16                             ...</td>\n",
       "      <td>-56.699997</td>\n",
       "      <td></td>\n",
       "      <td>E</td>\n",
       "      <td>360.0</td>\n",
       "      <td>NaN</td>\n",
       "    </tr>\n",
       "  </tbody>\n",
       "</table>\n",
       "<p>363 rows × 9 columns</p>\n",
       "</div>"
      ],
      "text/plain": [
       "     col     ;Date   Time                                            Millitm  \\\n",
       "0              NaN    NaN                                                NaN   \n",
       "1    NaN  14:00:02   68.0  [HKT]BM1_HMI_AI16                             ...   \n",
       "2    NaN  14:00:10  373.0  [HKT]BM1_HMI_AI16                             ...   \n",
       "3    NaN  14:00:11  724.0  [HKT]BM1_HMI_AI16                             ...   \n",
       "4    NaN  14:00:21  680.0  [HKT]BM1_HMI_AI16                             ...   \n",
       "..   ...       ...    ...                                                ...   \n",
       "358  NaN  14:59:21  718.0  [HKT]BM1_HMI_AI16                             ...   \n",
       "359  NaN  14:59:31  675.0  [HKT]BM1_HMI_AI16                             ...   \n",
       "360  NaN  14:59:41  685.0  [HKT]BM1_HMI_AI16                             ...   \n",
       "361  NaN  14:59:51  696.0  [HKT]BM1_HMI_AI16                             ...   \n",
       "362  NaN  15:00:14  396.0  [HKT]BM1_HMI_AI16                             ...   \n",
       "\n",
       "       Tagname Value Status  Marker  Internal  \n",
       "0          NaN   NaN    NaN     NaN       NaN  \n",
       "1   -56.899994            B    -1.0       NaN  \n",
       "2   -57.099991                  0.0       NaN  \n",
       "3   -57.099991                  1.0       NaN  \n",
       "4   -57.000000                  2.0       NaN  \n",
       "..         ...   ...    ...     ...       ...  \n",
       "358 -57.099991                356.0       NaN  \n",
       "359 -56.800003                357.0       NaN  \n",
       "360 -57.099991                358.0       NaN  \n",
       "361 -56.899994                359.0       NaN  \n",
       "362 -56.699997            E   360.0       NaN  \n",
       "\n",
       "[363 rows x 9 columns]"
      ]
     },
     "execution_count": 8,
     "metadata": {},
     "output_type": "execute_result"
    }
   ],
   "source": [
    "all_data = pd.DataFrame({'col':['']}).append(df, ignore_index=True)\n",
    "all_data.head(1000)"
   ]
  },
  {
   "cell_type": "markdown",
   "metadata": {},
   "source": [
    "Average the \"Value\" Parameter per date"
   ]
  },
  {
   "cell_type": "code",
   "execution_count": null,
   "metadata": {},
   "outputs": [],
   "source": [
    "def AverageColumn (c):\n",
    "    f=open(csv,\"r\")\n",
    "    average=0\n",
    "    Sum=0\n",
    "    column=len(f)\n",
    "    \n",
    "    for i in range(0,column):\n",
    "        for n in i.split(','):\n",
    "            n=float(n)\n",
    "            Sum += n\n",
    "        average = Sum / len(column)\n",
    "    return 'The average is:', average\n",
    "\n",
    "    f.close()\n",
    "\n",
    "\n",
    "csv=\"MDT25.csv\"\n",
    "print AverageColumn(csv)"
   ]
  },
  {
   "cell_type": "markdown",
   "metadata": {},
   "source": [
    " <br>"
   ]
  },
  {
   "cell_type": "markdown",
   "metadata": {},
   "source": [
    "### 3.  Data visualization for analysis"
   ]
  },
  {
   "cell_type": "code",
   "execution_count": null,
   "metadata": {},
   "outputs": [],
   "source": []
  }
 ],
 "metadata": {
  "kernelspec": {
   "display_name": "Python 3",
   "language": "python",
   "name": "python3"
  },
  "language_info": {
   "codemirror_mode": {
    "name": "ipython",
    "version": 3
   },
   "file_extension": ".py",
   "mimetype": "text/x-python",
   "name": "python",
   "nbconvert_exporter": "python",
   "pygments_lexer": "ipython3",
   "version": "3.8.2"
  }
 },
 "nbformat": 4,
 "nbformat_minor": 4
}
